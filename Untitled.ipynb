{
 "cells": [
  {
   "cell_type": "code",
   "execution_count": 1,
   "metadata": {},
   "outputs": [],
   "source": [
    "# This program predicts stock prices by using machine learning models\n",
    "\n",
    "#Install the dependencies\n",
    "import quandl\n",
    "import numpy as np \n",
    "from sklearn.linear_model import LinearRegression\n",
    "from sklearn.svm import SVR\n",
    "from sklearn.model_selection import train_test_split"
   ]
  },
  {
   "cell_type": "code",
   "execution_count": 2,
   "metadata": {},
   "outputs": [
    {
     "name": "stdout",
     "output_type": "stream",
     "text": [
      "             Open   High    Low    Close       Volume  Ex-Dividend  \\\n",
      "Date                                                                 \n",
      "2012-05-18  42.05  45.00  38.00  38.2318  573576400.0          0.0   \n",
      "2012-05-21  36.53  36.66  33.00  34.0300  168192700.0          0.0   \n",
      "2012-05-22  32.61  33.59  30.94  31.0000  101786600.0          0.0   \n",
      "2012-05-23  31.37  32.50  31.36  32.0000   73600000.0          0.0   \n",
      "2012-05-24  32.95  33.21  31.77  33.0300   50237200.0          0.0   \n",
      "\n",
      "            Split Ratio  Adj. Open  Adj. High  Adj. Low  Adj. Close  \\\n",
      "Date                                                                  \n",
      "2012-05-18          1.0      42.05      45.00     38.00     38.2318   \n",
      "2012-05-21          1.0      36.53      36.66     33.00     34.0300   \n",
      "2012-05-22          1.0      32.61      33.59     30.94     31.0000   \n",
      "2012-05-23          1.0      31.37      32.50     31.36     32.0000   \n",
      "2012-05-24          1.0      32.95      33.21     31.77     33.0300   \n",
      "\n",
      "            Adj. Volume  \n",
      "Date                     \n",
      "2012-05-18  573576400.0  \n",
      "2012-05-21  168192700.0  \n",
      "2012-05-22  101786600.0  \n",
      "2012-05-23   73600000.0  \n",
      "2012-05-24   50237200.0  \n"
     ]
    }
   ],
   "source": [
    "#Get the stock data\n",
    "df = quandl.get(\"WIKI/FB\")\n",
    "# Take a look at the data\n",
    "print(df.head())"
   ]
  },
  {
   "cell_type": "code",
   "execution_count": 3,
   "metadata": {},
   "outputs": [
    {
     "name": "stdout",
     "output_type": "stream",
     "text": [
      "            Adj. Close\n",
      "Date                  \n",
      "2012-05-18     38.2318\n",
      "2012-05-21     34.0300\n",
      "2012-05-22     31.0000\n",
      "2012-05-23     32.0000\n",
      "2012-05-24     33.0300\n"
     ]
    }
   ],
   "source": [
    "# Get the Adjusted Close Price\n",
    "df = df[['Adj. Close']]\n",
    "#Take a look at the new data\n",
    "print(df.head())"
   ]
  },
  {
   "cell_type": "code",
   "execution_count": 4,
   "metadata": {},
   "outputs": [
    {
     "name": "stdout",
     "output_type": "stream",
     "text": [
      "            Adj. Close  Prediction\n",
      "Date                              \n",
      "2018-03-21      169.39         NaN\n",
      "2018-03-22      164.89         NaN\n",
      "2018-03-23      159.39         NaN\n",
      "2018-03-26      160.06         NaN\n",
      "2018-03-27      152.19         NaN\n"
     ]
    }
   ],
   "source": [
    "# A variable for predicting 'n' days out into the future\n",
    "forecast_out = 30 #'n=30' days\n",
    "#Create another column (the target or dependent variable) shifted 'n' units up\n",
    "df['Prediction'] = df[['Adj. Close']].shift(-forecast_out)\n",
    "#print the new data set\n",
    "print(df.tail())"
   ]
  },
  {
   "cell_type": "code",
   "execution_count": 5,
   "metadata": {},
   "outputs": [
    {
     "name": "stdout",
     "output_type": "stream",
     "text": [
      "[[ 38.2318]\n",
      " [ 34.03  ]\n",
      " [ 31.    ]\n",
      " ...\n",
      " [171.5499]\n",
      " [175.98  ]\n",
      " [176.41  ]]\n"
     ]
    }
   ],
   "source": [
    "### Create the independent data set (X)  #######\n",
    "# Convert the dataframe to a numpy array\n",
    "X = np.array(df.drop(['Prediction'],1))\n",
    "\n",
    "#Remove the last 'n' rows\n",
    "X = X[:-forecast_out]\n",
    "print(X)"
   ]
  },
  {
   "cell_type": "code",
   "execution_count": 6,
   "metadata": {},
   "outputs": [
    {
     "name": "stdout",
     "output_type": "stream",
     "text": [
      "[ 30.771  31.2    31.47  ... 159.39  160.06  152.19 ]\n"
     ]
    }
   ],
   "source": [
    "### Create the dependent data set (y)  #####\n",
    "# Convert the dataframe to a numpy array (All of the values including the NaN's)\n",
    "y = np.array(df['Prediction'])\n",
    "# Get all of the y values except the last 'n' rows\n",
    "y = y[:-forecast_out]\n",
    "print(y)"
   ]
  },
  {
   "cell_type": "code",
   "execution_count": 7,
   "metadata": {},
   "outputs": [],
   "source": [
    "# Split the data into 80% training and 20% testing\n",
    "x_train, x_test, y_train, y_test = train_test_split(X, y, test_size=0.2)"
   ]
  },
  {
   "cell_type": "code",
   "execution_count": 8,
   "metadata": {},
   "outputs": [
    {
     "data": {
      "text/plain": [
       "SVR(C=1000.0, cache_size=200, coef0=0.0, degree=3, epsilon=0.1, gamma=0.1,\n",
       "    kernel='rbf', max_iter=-1, shrinking=True, tol=0.001, verbose=False)"
      ]
     },
     "execution_count": 8,
     "metadata": {},
     "output_type": "execute_result"
    }
   ],
   "source": [
    "# Create and train the Support Vector Machine (Regressor)\n",
    "svr_rbf = SVR(kernel='rbf', C=1e3, gamma=0.1)\n",
    "svr_rbf.fit(x_train, y_train)"
   ]
  },
  {
   "cell_type": "code",
   "execution_count": 9,
   "metadata": {},
   "outputs": [
    {
     "name": "stdout",
     "output_type": "stream",
     "text": [
      "svm confidence:  0.9742121139295546\n"
     ]
    }
   ],
   "source": [
    "# Testing Model: Score returns the coefficient of determination R^2 of the prediction. \n",
    "# The best possible score is 1.0\n",
    "svm_confidence = svr_rbf.score(x_test, y_test)\n",
    "print(\"svm confidence: \", svm_confidence)"
   ]
  },
  {
   "cell_type": "code",
   "execution_count": 10,
   "metadata": {},
   "outputs": [
    {
     "data": {
      "text/plain": [
       "LinearRegression(copy_X=True, fit_intercept=True, n_jobs=None, normalize=False)"
      ]
     },
     "execution_count": 10,
     "metadata": {},
     "output_type": "execute_result"
    }
   ],
   "source": [
    "# Create and train the Linear Regression  Model\n",
    "lr = LinearRegression()\n",
    "# Train the model\n",
    "lr.fit(x_train, y_train)"
   ]
  },
  {
   "cell_type": "code",
   "execution_count": 11,
   "metadata": {},
   "outputs": [
    {
     "name": "stdout",
     "output_type": "stream",
     "text": [
      "lr confidence:  0.977898915919646\n"
     ]
    }
   ],
   "source": [
    "# Testing Model: Score returns the coefficient of determination R^2 of the prediction. \n",
    "# The best possible score is 1.0\n",
    "lr_confidence = lr.score(x_test, y_test)\n",
    "print(\"lr confidence: \", lr_confidence)"
   ]
  },
  {
   "cell_type": "code",
   "execution_count": 12,
   "metadata": {},
   "outputs": [
    {
     "name": "stdout",
     "output_type": "stream",
     "text": [
      "[[173.15]\n",
      " [179.52]\n",
      " [179.96]\n",
      " [177.36]\n",
      " [176.01]\n",
      " [177.91]\n",
      " [178.99]\n",
      " [183.29]\n",
      " [184.93]\n",
      " [181.46]\n",
      " [178.32]\n",
      " [175.94]\n",
      " [176.62]\n",
      " [180.4 ]\n",
      " [179.78]\n",
      " [183.71]\n",
      " [182.34]\n",
      " [185.23]\n",
      " [184.76]\n",
      " [181.88]\n",
      " [184.19]\n",
      " [183.86]\n",
      " [185.09]\n",
      " [172.56]\n",
      " [168.15]\n",
      " [169.39]\n",
      " [164.89]\n",
      " [159.39]\n",
      " [160.06]\n",
      " [152.19]]\n"
     ]
    }
   ],
   "source": [
    "# Set x_forecast equal to the last 30 rows of the original data set from Adj. Close column\n",
    "x_forecast = np.array(df.drop(['Prediction'],1))[-forecast_out:]\n",
    "print(x_forecast)"
   ]
  },
  {
   "cell_type": "code",
   "execution_count": 13,
   "metadata": {},
   "outputs": [
    {
     "name": "stdout",
     "output_type": "stream",
     "text": [
      "[176.88650372 183.31027713 183.75399146 181.13204313 179.77064688\n",
      " 181.68668604 182.77580304 187.1121022  188.76594653 185.26665396\n",
      " 182.10014713 179.70005596 180.3857963  184.19770579 183.57247196\n",
      " 187.5356477  186.15408262 189.06847903 188.59451145 185.69019946\n",
      " 188.0196997  187.68691395 188.9272972  176.29152313 171.84429539\n",
      " 173.09476306 168.55677556 163.0103464  163.68600232 155.74956641]\n",
      "[179.26852301 181.25467816 181.43819159 176.37286317 174.98230944\n",
      " 177.42435714 180.33023251 179.36009585 177.71352624 180.45249666\n",
      " 178.49837278 174.91952328 175.5457551  181.19182933 181.42627637\n",
      " 178.45595938 180.44185964 178.37132736 177.49261079 180.44828976\n",
      " 177.60010124 178.14414539 178.02487049 179.96638047 171.67598759\n",
      " 171.97148712 172.09108547 167.36695602 166.10202867 158.00010442]\n"
     ]
    }
   ],
   "source": [
    "# Print linear regression model predictions for the next 'n' days\n",
    "lr_prediction = lr.predict(x_forecast)\n",
    "print(lr_prediction)\n",
    "\n",
    "# Print support vector regressor model predictions for the next 'n' days\n",
    "svm_prediction = svr_rbf.predict(x_forecast)\n",
    "print(svm_prediction)"
   ]
  },
  {
   "cell_type": "code",
   "execution_count": 2,
   "metadata": {},
   "outputs": [
    {
     "name": "stdout",
     "output_type": "stream",
     "text": [
      "Warning - Certain functionality \n",
      "             requires requests_html, which is not installed.\n",
      "             \n",
      "             Install using: \n",
      "             pip install requests_html\n",
      "             \n",
      "             After installation, you may have to restart your Python session.\n"
     ]
    }
   ],
   "source": [
    "# import stock_info module from yahoo_fin\n",
    "from yahoo_fin import stock_info as si\n",
    "\n",
    "\n"
   ]
  },
  {
   "cell_type": "code",
   "execution_count": 3,
   "metadata": {},
   "outputs": [
    {
     "name": "stdout",
     "output_type": "stream",
     "text": [
      "                  open        high         low       close    adjclose  \\\n",
      "1986-03-10    0.088542    0.102431    0.088542    0.100694    0.064783   \n",
      "1986-03-17    0.100694    0.103299    0.091146    0.092882    0.059756   \n",
      "1986-03-24    0.092882    0.096354    0.089410    0.096354    0.061990   \n",
      "1986-03-31    0.096354    0.098958    0.093750    0.096354    0.061990   \n",
      "1986-04-07    0.096354    0.101562    0.092882    0.099826    0.064224   \n",
      "...                ...         ...         ...         ...         ...   \n",
      "2020-01-06  157.080002  163.220001  156.509995  161.339996  161.339996   \n",
      "2020-01-13  161.759995  167.470001  161.259995  167.100006  167.100006   \n",
      "2020-01-20  166.679993  168.190002  164.449997  165.039993  165.039993   \n",
      "2020-01-27  161.149994  174.050003  160.199997  170.229996  170.229996   \n",
      "2020-01-31  172.210007  172.399994  169.600006  170.229996  170.229996   \n",
      "\n",
      "                volume ticker  \n",
      "1986-03-10  1339948800   MSFT  \n",
      "1986-03-17   367257600   MSFT  \n",
      "1986-03-24   136972800   MSFT  \n",
      "1986-03-31   100598400   MSFT  \n",
      "1986-04-07    70070400   MSFT  \n",
      "...                ...    ...  \n",
      "2020-01-06   112305200   MSFT  \n",
      "2020-01-13   124758900   MSFT  \n",
      "2020-01-20    98254900   MSFT  \n",
      "2020-01-27   179443300   MSFT  \n",
      "2020-01-31    36142690   MSFT  \n",
      "\n",
      "[1770 rows x 7 columns]\n",
      "                  open        high         low       close    adjclose  \\\n",
      "2020-01-02  158.779999  160.729996  158.330002  160.619995  160.619995   \n",
      "2020-01-03  158.320007  159.949997  158.059998  158.619995  158.619995   \n",
      "2020-01-06  157.080002  159.100006  156.509995  159.029999  159.029999   \n",
      "2020-01-07  159.320007  159.669998  157.320007  157.580002  157.580002   \n",
      "2020-01-08  158.929993  160.800003  157.949997  160.089996  160.089996   \n",
      "2020-01-09  161.839996  162.220001  161.029999  162.089996  162.089996   \n",
      "2020-01-10  162.820007  163.220001  161.179993  161.339996  161.339996   \n",
      "2020-01-13  161.759995  163.309998  161.259995  163.279999  163.279999   \n",
      "2020-01-14  163.389999  163.600006  161.720001  162.130005  162.130005   \n",
      "2020-01-15  162.619995  163.940002  162.570007  163.179993  163.179993   \n",
      "2020-01-16  164.350006  166.240005  164.029999  166.169998  166.169998   \n",
      "2020-01-17  167.419998  167.470001  165.429993  167.100006  167.100006   \n",
      "2020-01-21  166.679993  168.190002  166.429993  166.500000  166.500000   \n",
      "2020-01-22  167.399994  167.490005  165.679993  165.699997  165.699997   \n",
      "2020-01-23  166.190002  166.800003  165.270004  166.720001  166.720001   \n",
      "2020-01-24  167.509995  167.529999  164.449997  165.039993  165.039993   \n",
      "2020-01-27  161.149994  163.380005  160.199997  162.279999  162.279999   \n",
      "2020-01-28  163.779999  165.759995  163.070007  165.460007  165.460007   \n",
      "2020-01-29  167.839996  168.750000  165.690002  168.039993  168.039993   \n",
      "2020-01-30  174.050003  174.050003  170.789993  172.779999  172.779999   \n",
      "2020-01-31  172.210007  172.399994  169.580002  170.229996  170.229996   \n",
      "\n",
      "              volume ticker  \n",
      "2020-01-02  22622100   MSFT  \n",
      "2020-01-03  21116200   MSFT  \n",
      "2020-01-06  20813700   MSFT  \n",
      "2020-01-07  21634100   MSFT  \n",
      "2020-01-08  27746500   MSFT  \n",
      "2020-01-09  21385000   MSFT  \n",
      "2020-01-10  20725900   MSFT  \n",
      "2020-01-13  21626500   MSFT  \n",
      "2020-01-14  23477400   MSFT  \n",
      "2020-01-15  21417900   MSFT  \n",
      "2020-01-16  23865400   MSFT  \n",
      "2020-01-17  34371700   MSFT  \n",
      "2020-01-21  29517200   MSFT  \n",
      "2020-01-22  24138800   MSFT  \n",
      "2020-01-23  19680800   MSFT  \n",
      "2020-01-24  24918100   MSFT  \n",
      "2020-01-27  32078100   MSFT  \n",
      "2020-01-28  24899900   MSFT  \n",
      "2020-01-29  34754500   MSFT  \n",
      "2020-01-30  51597500   MSFT  \n",
      "2020-01-31  36113300   MSFT  \n"
     ]
    },
    {
     "name": "stderr",
     "output_type": "stream",
     "text": [
      "UsageError: Line magic function `%_change` not found.\n"
     ]
    }
   ],
   "source": [
    "\n",
    "# coding: utf-8\n",
    "\n",
    "# In[1]:\n",
    "\n",
    "\n",
    "# import stock_info module from yahoo_fin\n",
    "from yahoo_fin import stock_info as si\n",
    "\n",
    "\n",
    "# In[2]:\n",
    "\n",
    "\n",
    "from yahoo_fin.stock_info import get_analysts_info\n",
    "\n",
    "\n",
    "# In[3]:\n",
    "\n",
    "\n",
    "from yahoo_fin.stock_info import *\n",
    "\n",
    "\n",
    "# In[4]:\n",
    "\n",
    "\n",
    "weekly_data = get_data(\"msft\", interval = \"1wk\")\n",
    " \n",
    "monthly_data = get_data(\"msft\", interval = \"1mo\")\n",
    "\n",
    "\n",
    "# In[5]:\n",
    "\n",
    "\n",
    "print(weekly_data)\n",
    "\n",
    "\n",
    "# In[8]:\n",
    "\n",
    "\n",
    "from2020 = get_data('msft' , start_date = '01/01/2020')\n",
    " \n",
    "few_days = get_data('msft' , start_date = '01/01/2020' , end_date = '29/10/2020')\n",
    "\n",
    "\n",
    "# In[9]:\n",
    "\n",
    "\n",
    "print(from2020)\n",
    "\n",
    "\n",
    "# In[10]:\n",
    "\n",
    "\n",
    "from yahoo_fin.options import *\n",
    "\n",
    "\n",
    "# In[11]:\n",
    "\n",
    "\n",
    "get_ipython().run_line_magic('_change', \"= get_change('msft')\")\n",
    "\n",
    "\n",
    "# In[12]:\n",
    "\n",
    "\n",
    "# Plot the adjusted close price\n",
    "data['Adj Close'].plot(figsize=(10, 7))\n",
    "# Define the label for the title of the figure\n",
    "plt.title(\"Adjusted Close Price of %s\" % ticker, fontsize=16)\n",
    "# Define the labels for x-axis and y-axis\n",
    "plt.ylabel('Price', fontsize=14)\n",
    "plt.xlabel('Year', fontsize=14)\n",
    "# Plot the grid lines\n",
    "plt.grid(which=\"major\", color='k', linestyle='-.', linewidth=0.5)\n",
    "# Show the plot\n",
    "plt.show()\n",
    "\n",
    "\n",
    "# In[15]:\n",
    "\n",
    "\n",
    "# Yahoo recently has become an unstable data source.\n",
    "# If it gives an error, you may run the cell again, or try yfinance\n",
    "import pandas as pd\n",
    "from pandas_datareader import data\n",
    "# Set the start and end date\n",
    "start_date = '2020-01-01'\n",
    "end_date = '2020-01-29'\n",
    "# Set the ticker\n",
    "ticker = 'MSFT'\n",
    "# Get the data\n",
    "data = data.get_data_yahoo(ticker, start_date, end_date)\n",
    "data.head()\n",
    "\n",
    "\n",
    "# In[16]:\n",
    "\n",
    "\n",
    "import matplotlib.pyplot as plt\n",
    "get_ipython().run_line_magic('matplotlib', 'inline')\n",
    "data['Adj Close'].plot()\n",
    "plt.show()\n",
    "\n",
    "\n",
    "# In[17]:\n",
    "\n",
    "\n",
    "# Plot the adjusted close price\n",
    "data['Open'].plot(figsize=(10, 7))\n",
    "# Define the label for the title of the figure\n",
    "plt.title(\"Adjusted Open Price of %s\" % ticker, fontsize=16)\n",
    "# Define the labels for x-axis and y-axis\n",
    "plt.ylabel('Price', fontsize=14)\n",
    "plt.xlabel('Year', fontsize=14)\n",
    "# Plot the grid lines\n",
    "plt.grid(which=\"major\", color='k', linestyle='-.', linewidth=0.5)\n",
    "# Show the plot\n",
    "plt.show()\n",
    "\n",
    "\n",
    "# In[47]:\n",
    "\n",
    "\n",
    "# Yahoo recently has become an unstable data source.\n",
    "# If it gives an error, you may run the cell again, or try yfinance\n",
    "import pandas as pd\n",
    "from pandas_datareader import data\n",
    "# Set the start and end date\n",
    "start_date = '1990-01-01'\n",
    "end_date = '2019-02-01'\n",
    "# Set the ticker\n",
    "ticker = 'AAPL'\n",
    "# Get the data\n",
    "data = data.get_data_yahoo(ticker, start_date, end_date)\n",
    "data.head()\n",
    "\n",
    "\n",
    "# In[48]:\n",
    "\n",
    "\n",
    "import matplotlib.pyplot as plt\n",
    "get_ipython().run_line_magic('matplotlib', 'inline')\n",
    "data['Open'].plot()\n",
    "plt.show()\n",
    "\n",
    "\n",
    "# In[49]:\n",
    "\n",
    "\n",
    "# Plot the adjusted close price\n",
    "data['Open'].plot(figsize=(10, 7))\n",
    "# Define the label for the title of the figure\n",
    "plt.title(\"Open Price of AAPL is %s\" % ticker, fontsize=16)\n",
    "# Define the labels for x-axis and y-axis\n",
    "plt.ylabel('Price', fontsize=14)\n",
    "plt.xlabel('Year', fontsize=14)\n",
    "# Plot the grid lines\n",
    "plt.grid(which=\"major\", color='k', linestyle='-.', linewidth=0.5)\n",
    "# Show the plot\n",
    "plt.show()\n",
    "\n",
    "\n",
    "# In[50]:\n",
    "\n",
    "\n",
    "# Import the quandl\n",
    "import quandl\n",
    "# To get your API key, sign up for a free Quandl account.\n",
    "# Then, you can find your API key on Quandl account settings page.\n",
    "QUANDL_API_KEY = 'REPLACE-THIS-TEXT-WITH-A-REAL-API-KEY'\n",
    "# This is to prompt you to change the Quandl Key\n",
    "if QUANDL_API_KEY == 'REPLACE-THIS-TEXT-WITH-A-REAL-API-KEY':\n",
    " raise Exception(\"Please provide a valid Quandl API key!\")\n",
    "# Set the start and end date\n",
    "start_date = '2020-01-01'\n",
    "end_date = '2020-01-25'\n",
    "# Set the ticker name\n",
    "ticker = 'AAPL'\n",
    "# Feth the data\n",
    "data = quandl.get('WIKI/'+ticker, start_date=start_date,\n",
    " end_date=end_date, api_key=QUANDL_API_KEY)\n",
    "# Print the first 5 rows of the dataframe\n",
    "data.head()\n",
    "\n",
    "\n",
    "# In[56]:\n",
    "\n",
    "\n",
    "# Yahoo recently has become an unstable data source.\n",
    "# If it gives an error, you may run the cell again, or try yfinance\n",
    "import pandas as pd\n",
    "from pandas_datareader import data\n",
    "# Set the start and end date\n",
    "start_date = '2020-01-01'\n",
    "end_date = '2020-01-25'\n",
    "# Set the ticker\n",
    "ticker = 'AMZN'\n",
    "# Get the data\n",
    "data = data.get_data_yahoo(ticker, start_date, end_date)\n",
    "data.head()\n",
    "import matplotlib.pyplot as plt\n",
    "get_ipython().run_line_magic('matplotlib', 'inline')\n",
    "data['Open'].plot()\n",
    "plt.show()\n",
    "\n",
    "\n",
    "# In[54]:\n",
    "\n",
    "\n",
    "# Yahoo recently has become an unstable data source.\n",
    "# If it gives an error, you may run the cell again, or try yfinance\n",
    "import pandas as pd\n",
    "from pandas_datareader import data\n",
    "# Set the start and end date\n",
    "start_date = '2020-01-01'\n",
    "end_date = '2020-01-25'\n",
    "# Set the ticker\n",
    "ticker = 'AAPL'\n",
    "# Get the data\n",
    "data = data.get_data_yahoo(ticker, start_date, end_date)\n",
    "data.head()\n",
    "\n",
    "\n",
    "# In[55]:\n",
    "\n",
    "\n",
    "import matplotlib.pyplot as plt\n",
    "get_ipython().run_line_magic('matplotlib', 'inline')\n",
    "data['Open'].plot()\n",
    "plt.show()\n",
    "\n"
   ]
  },
  {
   "cell_type": "code",
   "execution_count": 4,
   "metadata": {},
   "outputs": [
    {
     "ename": "ModuleNotFoundError",
     "evalue": "No module named 'pandas_datareader'",
     "output_type": "error",
     "traceback": [
      "\u001b[1;31m---------------------------------------------------------------------------\u001b[0m",
      "\u001b[1;31mModuleNotFoundError\u001b[0m                       Traceback (most recent call last)",
      "\u001b[1;32m<ipython-input-4-b63da3b723c6>\u001b[0m in \u001b[0;36m<module>\u001b[1;34m\u001b[0m\n\u001b[0;32m      1\u001b[0m \u001b[1;32mimport\u001b[0m \u001b[0mpandas\u001b[0m \u001b[1;32mas\u001b[0m \u001b[0mpd\u001b[0m\u001b[1;33m\u001b[0m\u001b[1;33m\u001b[0m\u001b[0m\n\u001b[1;32m----> 2\u001b[1;33m \u001b[1;32mfrom\u001b[0m \u001b[0mpandas_datareader\u001b[0m \u001b[1;32mimport\u001b[0m \u001b[0mdata\u001b[0m\u001b[1;33m\u001b[0m\u001b[1;33m\u001b[0m\u001b[0m\n\u001b[0m\u001b[0;32m      3\u001b[0m \u001b[1;31m# Set the start and end date\u001b[0m\u001b[1;33m\u001b[0m\u001b[1;33m\u001b[0m\u001b[1;33m\u001b[0m\u001b[0m\n\u001b[0;32m      4\u001b[0m \u001b[0mstart_date\u001b[0m \u001b[1;33m=\u001b[0m \u001b[1;34m'2020-01-01'\u001b[0m\u001b[1;33m\u001b[0m\u001b[1;33m\u001b[0m\u001b[0m\n\u001b[0;32m      5\u001b[0m \u001b[0mend_date\u001b[0m \u001b[1;33m=\u001b[0m \u001b[1;34m'2020-01-25'\u001b[0m\u001b[1;33m\u001b[0m\u001b[1;33m\u001b[0m\u001b[0m\n",
      "\u001b[1;31mModuleNotFoundError\u001b[0m: No module named 'pandas_datareader'"
     ]
    }
   ],
   "source": [
    "import pandas as pd\n",
    "from pandas_datareader import data\n",
    "# Set the start and end date\n",
    "start_date = '2020-01-01'\n",
    "end_date = '2020-01-25'\n",
    "# Set the ticker\n",
    "ticker = 'AMZN'\n",
    "# Get the data\n",
    "data = data.get_data_yahoo(ticker, start_date, end_date)\n",
    "data.head()\n",
    "import matplotlib.pyplot as plt\n",
    "get_ipython().run_line_magic('matplotlib', 'inline')\n",
    "data['Open'].plot()\n",
    "plt.show()\n"
   ]
  },
  {
   "cell_type": "code",
   "execution_count": null,
   "metadata": {},
   "outputs": [],
   "source": []
  }
 ],
 "metadata": {
  "kernelspec": {
   "display_name": "Python 3",
   "language": "python",
   "name": "python3"
  },
  "language_info": {
   "codemirror_mode": {
    "name": "ipython",
    "version": 3
   },
   "file_extension": ".py",
   "mimetype": "text/x-python",
   "name": "python",
   "nbconvert_exporter": "python",
   "pygments_lexer": "ipython3",
   "version": "3.7.4"
  }
 },
 "nbformat": 4,
 "nbformat_minor": 2
}
